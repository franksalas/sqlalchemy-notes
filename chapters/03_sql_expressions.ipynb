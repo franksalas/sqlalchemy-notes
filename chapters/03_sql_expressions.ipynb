{
 "cells": [
  {
   "cell_type": "markdown",
   "metadata": {},
   "source": [
    "# Introduction to SQLAlchemy : SQL Expressions\n",
    "\n",
    "- The **SQL Expression** system builds upon **Table Metadata** in order to compose SQL statements in Python.\n",
    "- We will build Python objects that represent individual SQL string (statements) we'd send to the database.\n",
    "-  These objects are composed of other obnects that each represent some unit of SQL, like a comparison, a SELECT statement, a conjuction such as AND or OR.\n",
    "- We work with these objectsin Python, whick are then converted to string when we \"Execute\" tehm (as weoo as we print them).\n",
    "\n",
    "\n",
    "\n",
    "\n",
    "\n",
    "\n"
   ]
  },
  {
   "cell_type": "code",
   "execution_count": 12,
   "metadata": {},
   "outputs": [],
   "source": [
    "from pprint import pprint"
   ]
  },
  {
   "cell_type": "code",
   "execution_count": 3,
   "metadata": {},
   "outputs": [],
   "source": [
    "### slide::\n",
    "### title:: SQL Expression Language\n",
    "# We begin with a Table object\n",
    "from sqlalchemy import MetaData, Table, Column, String, Integer\n",
    "\n",
    "metadata = MetaData()\n",
    "user_table = Table('user', metadata,\n",
    "                    Column('id', Integer, primary_key=True),\n",
    "                    Column('username', String(50)),\n",
    "                    Column('fullname', String(50))\n",
    "                   )"
   ]
  },
  {
   "cell_type": "code",
   "execution_count": 4,
   "metadata": {},
   "outputs": [],
   "source": [
    "### slide:: p\n",
    "# new SQLite database and generate the table.\n",
    "\n",
    "from sqlalchemy import create_engine\n",
    "engine = create_engine(\"sqlite://\")\n",
    "metadata.create_all(engine)"
   ]
  },
  {
   "cell_type": "code",
   "execution_count": 5,
   "metadata": {},
   "outputs": [
    {
     "data": {
      "text/plain": [
       "Column('username', String(length=50), table=<user>)"
      ]
     },
     "execution_count": 5,
     "metadata": {},
     "output_type": "execute_result"
    }
   ],
   "source": [
    "### slide::\n",
    "# as we saw earlier, Table has a collection of Column objects,\n",
    "# which we can access via table.c.<columnname>\n",
    "\n",
    "user_table.c.username"
   ]
  },
  {
   "cell_type": "code",
   "execution_count": 6,
   "metadata": {},
   "outputs": [
    {
     "data": {
      "text/plain": [
       "<sqlalchemy.sql.elements.BinaryExpression object at 0x7f97e85ffaf0>"
      ]
     },
     "execution_count": 6,
     "metadata": {},
     "output_type": "execute_result"
    }
   ],
   "source": [
    "### slide::\n",
    "# Column is part of a class known as \"ColumnElement\",\n",
    "# which exhibit custom Python expression behavior.\n",
    "\n",
    "user_table.c.username == 'ed'"
   ]
  },
  {
   "cell_type": "code",
   "execution_count": 7,
   "metadata": {},
   "outputs": [
    {
     "name": "stdout",
     "output_type": "stream",
     "text": [
      "\"user\".username = :username_1\n"
     ]
    }
   ],
   "source": [
    "print(user_table.c.username == 'ed')"
   ]
  },
  {
   "cell_type": "code",
   "execution_count": 8,
   "metadata": {},
   "outputs": [
    {
     "data": {
      "text/plain": [
       "'\"user\".username = :username_1'"
      ]
     },
     "execution_count": 8,
     "metadata": {},
     "output_type": "execute_result"
    }
   ],
   "source": [
    "### slide:: i\n",
    "# They become SQL when evaluated as a string.\n",
    "str(user_table.c.username == 'ed')"
   ]
  },
  {
   "cell_type": "code",
   "execution_count": 9,
   "metadata": {},
   "outputs": [
    {
     "name": "stdout",
     "output_type": "stream",
     "text": [
      "\"user\".username = :username_1 OR \"user\".username = :username_2\n"
     ]
    }
   ],
   "source": [
    "### slide::\n",
    "# ColumnElements can be further combined to produce more ColumnElements\n",
    "\n",
    "print(\n",
    "    (user_table.c.username == 'ed') | (user_table.c.username == 'jack')\n",
    "    )"
   ]
  },
  {
   "cell_type": "code",
   "execution_count": 14,
   "metadata": {},
   "outputs": [
    {
     "name": "stdout",
     "output_type": "stream",
     "text": [
      "\"user\".fullname = :fullname_1 AND (\"user\".username = :username_1 OR \"user\".username = :username_2)\n"
     ]
    }
   ],
   "source": [
    "### slide::\n",
    "# OR and AND are available with |, &, or or_() and and_()\n",
    "\n",
    "from sqlalchemy import and_, or_\n",
    "\n",
    "print(\n",
    "    and_(\n",
    "        user_table.c.fullname == 'ed jones',\n",
    "            or_(\n",
    "                user_table.c.username == 'ed',\n",
    "                user_table.c.username == 'jack'\n",
    "            )\n",
    "        )\n",
    "    )"
   ]
  },
  {
   "cell_type": "code",
   "execution_count": 15,
   "metadata": {},
   "outputs": [
    {
     "name": "stdout",
     "output_type": "stream",
     "text": [
      "\"user\".id > :id_1\n"
     ]
    }
   ],
   "source": [
    "### slide::\n",
    "# comparison operators\n",
    "\n",
    "print(user_table.c.id > 5)"
   ]
  },
  {
   "cell_type": "code",
   "execution_count": 16,
   "metadata": {},
   "outputs": [
    {
     "name": "stdout",
     "output_type": "stream",
     "text": [
      "\"user\".fullname IS NULL\n"
     ]
    }
   ],
   "source": [
    "### slide::\n",
    "# Compare to None produces IS NULL\n",
    "\n",
    "print(user_table.c.fullname == None)"
   ]
  },
  {
   "cell_type": "code",
   "execution_count": 17,
   "metadata": {},
   "outputs": [
    {
     "name": "stdout",
     "output_type": "stream",
     "text": [
      "\"user\".id + :id_1\n"
     ]
    }
   ],
   "source": [
    "### slide::\n",
    "# \"+\" might mean \"addition\"....\n",
    "\n",
    "print(user_table.c.id + 5)"
   ]
  },
  {
   "cell_type": "code",
   "execution_count": 18,
   "metadata": {},
   "outputs": [
    {
     "name": "stdout",
     "output_type": "stream",
     "text": [
      "\"user\".fullname || :fullname_1\n"
     ]
    }
   ],
   "source": [
    "### slide:: i\n",
    "# ...or might mean \"string concatenation\"\n",
    "\n",
    "print(user_table.c.fullname + \"some name\")"
   ]
  },
  {
   "cell_type": "code",
   "execution_count": 19,
   "metadata": {},
   "outputs": [
    {
     "name": "stdout",
     "output_type": "stream",
     "text": [
      "\"user\".username IN (:username_1, :username_2, :username_3)\n"
     ]
    }
   ],
   "source": [
    "### slide::\n",
    "# an IN\n",
    "\n",
    "print(user_table.c.username.in_([\"wendy\", \"mary\", \"ed\"]))"
   ]
  },
  {
   "cell_type": "code",
   "execution_count": 20,
   "metadata": {},
   "outputs": [],
   "source": [
    "### slide::\n",
    "# Expressions produce different strings according to *dialect*\n",
    "# objects.\n",
    "\n",
    "expression = user_table.c.username == 'ed'"
   ]
  },
  {
   "cell_type": "code",
   "execution_count": 21,
   "metadata": {},
   "outputs": [
    {
     "name": "stdout",
     "output_type": "stream",
     "text": [
      "user.username = %s\n"
     ]
    }
   ],
   "source": [
    "### slide:: i\n",
    "# MySQL....\n",
    "from sqlalchemy.dialects import mysql\n",
    "print(expression.compile(dialect=mysql.dialect()))"
   ]
  },
  {
   "cell_type": "code",
   "execution_count": 22,
   "metadata": {},
   "outputs": [
    {
     "name": "stdout",
     "output_type": "stream",
     "text": [
      "\"user\".username = %(username_1)s\n"
     ]
    }
   ],
   "source": [
    "### slide:: i\n",
    "# PostgreSQL...\n",
    "from sqlalchemy.dialects import postgresql\n",
    "print(expression.compile(dialect=postgresql.dialect()))"
   ]
  },
  {
   "cell_type": "code",
   "execution_count": 23,
   "metadata": {},
   "outputs": [
    {
     "data": {
      "text/plain": [
       "{'username_1': 'ed'}"
      ]
     },
     "execution_count": 23,
     "metadata": {},
     "output_type": "execute_result"
    }
   ],
   "source": [
    "### slide::\n",
    "# the Compiled object also converts literal values to \"bound\"\n",
    "# parameters.\n",
    "\n",
    "compiled = expression.compile()\n",
    "compiled.params"
   ]
  },
  {
   "cell_type": "code",
   "execution_count": 24,
   "metadata": {},
   "outputs": [
    {
     "data": {
      "text/plain": [
       "<sqlalchemy.engine.result.ResultProxy at 0x7f97e846b850>"
      ]
     },
     "execution_count": 24,
     "metadata": {},
     "output_type": "execute_result"
    }
   ],
   "source": [
    "### slide::\n",
    "# The \"bound\" parameters are extracted when we execute()\n",
    "\n",
    "engine.execute(\n",
    "        user_table.select().where(user_table.c.username == 'ed')\n",
    "    )"
   ]
  },
  {
   "cell_type": "code",
   "execution_count": 25,
   "metadata": {},
   "outputs": [],
   "source": [
    "### slide::\n",
    "### title:: Exercises\n",
    "# Produce these expressions using \"user_table.c.fullname\",\n",
    "# \"user_table.c.id\", and \"user_table.c.username\":\n",
    "#\n",
    "# 1. user.fullname = 'ed'\n",
    "#\n",
    "# 2. user.fullname = 'ed' AND user.id > 5\n",
    "#\n",
    "# 3. user.username = 'edward' OR (user.fullname = 'ed' AND user.id > 5)\n",
    "#"
   ]
  },
  {
   "cell_type": "code",
   "execution_count": 26,
   "metadata": {},
   "outputs": [],
   "source": [
    "### slide:: p\n",
    "# we can insert data using the insert() construct\n",
    "\n",
    "insert_stmt = user_table.insert().values(username='ed', fullname='Ed Jones')\n",
    "\n",
    "conn = engine.connect()\n",
    "result = conn.execute(insert_stmt)"
   ]
  },
  {
   "cell_type": "code",
   "execution_count": 27,
   "metadata": {},
   "outputs": [
    {
     "data": {
      "text/plain": [
       "[1]"
      ]
     },
     "execution_count": 27,
     "metadata": {},
     "output_type": "execute_result"
    }
   ],
   "source": [
    "### slide:: i\n",
    "# executing an insert() gives us the \"last inserted id\"\n",
    "result.inserted_primary_key"
   ]
  },
  {
   "cell_type": "code",
   "execution_count": 28,
   "metadata": {},
   "outputs": [
    {
     "data": {
      "text/plain": [
       "<sqlalchemy.engine.result.ResultProxy at 0x7f97e846ba00>"
      ]
     },
     "execution_count": 28,
     "metadata": {},
     "output_type": "execute_result"
    }
   ],
   "source": [
    "### slide:: p\n",
    "# insert() and other DML can run multiple parameters at once.\n",
    "\n",
    "conn.execute(user_table.insert(), [\n",
    "    {'username': 'jack', 'fullname': 'Jack Burger'},\n",
    "    {'username': 'wendy', 'fullname': 'Wendy Weathersmith'}\n",
    "])"
   ]
  },
  {
   "cell_type": "code",
   "execution_count": 29,
   "metadata": {},
   "outputs": [
    {
     "name": "stdout",
     "output_type": "stream",
     "text": [
      "('ed', 'Ed Jones')\n"
     ]
    }
   ],
   "source": [
    "### slide:: p\n",
    "# select() is used to produce any SELECT statement.\n",
    "\n",
    "from sqlalchemy import select\n",
    "select_stmt = select([user_table.c.username, user_table.c.fullname]).\\\n",
    "            where(user_table.c.username == 'ed')\n",
    "result = conn.execute(select_stmt)\n",
    "for row in result:\n",
    "    print(row)"
   ]
  },
  {
   "cell_type": "code",
   "execution_count": 30,
   "metadata": {},
   "outputs": [
    {
     "data": {
      "text/plain": [
       "[(1, 'ed', 'Ed Jones'),\n",
       " (2, 'jack', 'Jack Burger'),\n",
       " (3, 'wendy', 'Wendy Weathersmith')]"
      ]
     },
     "execution_count": 30,
     "metadata": {},
     "output_type": "execute_result"
    }
   ],
   "source": [
    "### slide:: p\n",
    "# select all columns from a table\n",
    "\n",
    "select_stmt = select([user_table])\n",
    "conn.execute(select_stmt).fetchall()"
   ]
  },
  {
   "cell_type": "code",
   "execution_count": 31,
   "metadata": {},
   "outputs": [
    {
     "data": {
      "text/plain": [
       "[(1, 'ed', 'Ed Jones'), (3, 'wendy', 'Wendy Weathersmith')]"
      ]
     },
     "execution_count": 31,
     "metadata": {},
     "output_type": "execute_result"
    }
   ],
   "source": [
    "### slide:: p\n",
    "# specify a WHERE clause\n",
    "\n",
    "select_stmt = select([user_table]).\\\n",
    "                    where(\n",
    "                        or_(\n",
    "                            user_table.c.username == 'ed',\n",
    "                            user_table.c.username == 'wendy'\n",
    "                        )\n",
    "                    )\n",
    "conn.execute(select_stmt).fetchall()"
   ]
  },
  {
   "cell_type": "code",
   "execution_count": 32,
   "metadata": {},
   "outputs": [
    {
     "data": {
      "text/plain": [
       "[]"
      ]
     },
     "execution_count": 32,
     "metadata": {},
     "output_type": "execute_result"
    }
   ],
   "source": [
    "### slide:: p\n",
    "# specify multiple WHERE, will be joined by AND\n",
    "\n",
    "select_stmt = select([user_table]).\\\n",
    "                    where(user_table.c.username == 'ed').\\\n",
    "                    where(user_table.c.fullname == 'ed jones')\n",
    "conn.execute(select_stmt).fetchall()"
   ]
  },
  {
   "cell_type": "code",
   "execution_count": 33,
   "metadata": {},
   "outputs": [
    {
     "name": "stdout",
     "output_type": "stream",
     "text": [
      "[(1, 'ed', 'Ed Jones'), (2, 'jack', 'Jack Burger'), (3, 'wendy', 'Wendy Weathersmith')]\n"
     ]
    }
   ],
   "source": [
    "### slide:: p\n",
    "# ordering is applied using order_by()\n",
    "\n",
    "select_stmt = select([user_table]).\\\n",
    "                    order_by(user_table.c.username)\n",
    "print(conn.execute(select_stmt).fetchall())"
   ]
  },
  {
   "cell_type": "code",
   "execution_count": 34,
   "metadata": {},
   "outputs": [],
   "source": [
    "### slide::\n",
    "### title:: Exercises\n",
    "# 1. use user_table.insert() and \"r = conn.execute()\" to emit this\n",
    "# statement:\n",
    "#\n",
    "# INSERT INTO user (username, fullname) VALUES ('dilbert', 'Dilbert Jones')\n",
    "#\n",
    "# 2. What is the value of 'user.id' for the above INSERT statement?\n",
    "#\n",
    "# 3. Using \"select([user_table])\", execute this SELECT:\n",
    "#\n",
    "# SELECT id, username, fullname FROM user WHERE username = 'wendy' OR\n",
    "#   username = 'dilbert' ORDER BY fullname\n",
    "#\n",
    "#"
   ]
  },
  {
   "cell_type": "code",
   "execution_count": 35,
   "metadata": {},
   "outputs": [],
   "source": [
    "### slide:: p\n",
    "### title:: Joins / Foreign Keys\n",
    "# We create a new table to illustrate multi-table operations\n",
    "from sqlalchemy import ForeignKey\n",
    "\n",
    "address_table = Table(\"address\", metadata,\n",
    "                        Column('id', Integer, primary_key=True),\n",
    "                        Column('user_id', Integer, ForeignKey('user.id'),\n",
    "                                                            nullable=False),\n",
    "                        Column('email_address', String(100), nullable=False)\n",
    "                      )\n",
    "metadata.create_all(engine)"
   ]
  },
  {
   "cell_type": "code",
   "execution_count": 36,
   "metadata": {},
   "outputs": [
    {
     "data": {
      "text/plain": [
       "<sqlalchemy.engine.result.ResultProxy at 0x7f97e83fc190>"
      ]
     },
     "execution_count": 36,
     "metadata": {},
     "output_type": "execute_result"
    }
   ],
   "source": [
    "### slide:: p\n",
    "# data\n",
    "conn.execute(address_table.insert(), [\n",
    "    {\"user_id\": 1, \"email_address\": \"ed@ed.com\"},\n",
    "    {\"user_id\": 1, \"email_address\": \"ed@gmail.com\"},\n",
    "    {\"user_id\": 2, \"email_address\": \"jack@yahoo.com\"},\n",
    "    {\"user_id\": 3, \"email_address\": \"wendy@gmail.com\"},\n",
    "])"
   ]
  },
  {
   "cell_type": "code",
   "execution_count": 37,
   "metadata": {},
   "outputs": [
    {
     "name": "stdout",
     "output_type": "stream",
     "text": [
      "\"user\" JOIN address ON \"user\".id = address.user_id\n"
     ]
    }
   ],
   "source": [
    "### slide::\n",
    "# two Table objects can be joined using join()\n",
    "#\n",
    "# <left>.join(<right>, [<onclause>]).\n",
    "\n",
    "join_obj = user_table.join(address_table,\n",
    "                            user_table.c.id == address_table.c.user_id)\n",
    "print(join_obj)"
   ]
  },
  {
   "cell_type": "code",
   "execution_count": 38,
   "metadata": {},
   "outputs": [
    {
     "name": "stdout",
     "output_type": "stream",
     "text": [
      "\"user\" JOIN address ON \"user\".id = address.user_id\n"
     ]
    }
   ],
   "source": [
    "### slide::\n",
    "# ForeignKey allows the join() to figure out the ON clause automatically\n",
    "\n",
    "join_obj = user_table.join(address_table)\n",
    "print(join_obj)"
   ]
  },
  {
   "cell_type": "code",
   "execution_count": 39,
   "metadata": {},
   "outputs": [
    {
     "data": {
      "text/plain": [
       "[(1, 'ed', 'Ed Jones', 1, 1, 'ed@ed.com'),\n",
       " (1, 'ed', 'Ed Jones', 2, 1, 'ed@gmail.com'),\n",
       " (2, 'jack', 'Jack Burger', 3, 2, 'jack@yahoo.com'),\n",
       " (3, 'wendy', 'Wendy Weathersmith', 4, 3, 'wendy@gmail.com')]"
      ]
     },
     "execution_count": 39,
     "metadata": {},
     "output_type": "execute_result"
    }
   ],
   "source": [
    "### slide:: pi\n",
    "# to SELECT from a JOIN, use select_from()\n",
    "\n",
    "select_stmt = select([user_table, address_table]).select_from(join_obj)\n",
    "conn.execute(select_stmt).fetchall()"
   ]
  },
  {
   "cell_type": "code",
   "execution_count": 40,
   "metadata": {},
   "outputs": [
    {
     "name": "stdout",
     "output_type": "stream",
     "text": [
      "SELECT username \n",
      "FROM (SELECT \"user\".id AS id, \"user\".username AS username, \"user\".fullname AS fullname \n",
      "FROM \"user\" \n",
      "WHERE \"user\".username = :username_1) \n",
      "WHERE username = :username_2\n"
     ]
    }
   ],
   "source": [
    "### slide::\n",
    "# the select() object is a \"selectable\" just like Table.\n",
    "# it has a .c. attribute also.\n",
    "\n",
    "select_stmt = select([user_table]).where(user_table.c.username == 'ed')\n",
    "\n",
    "print(\n",
    "    select([select_stmt.c.username]).\n",
    "        where(select_stmt.c.username == 'ed')\n",
    "   )"
   ]
  },
  {
   "cell_type": "code",
   "execution_count": 41,
   "metadata": {},
   "outputs": [
    {
     "name": "stdout",
     "output_type": "stream",
     "text": [
      "SELECT anon_1.username \n",
      "FROM (SELECT \"user\".id AS id, \"user\".username AS username, \"user\".fullname AS fullname \n",
      "FROM \"user\" \n",
      "WHERE \"user\".username = :username_1) AS anon_1 \n",
      "WHERE anon_1.username = :username_2\n"
     ]
    }
   ],
   "source": [
    "### slide::\n",
    "# In SQL, a \"subquery\" is usually an alias() of a select()\n",
    "\n",
    "select_alias = select_stmt.alias()\n",
    "print(\n",
    "    select([select_alias.c.username]).\n",
    "        where(select_alias.c.username == 'ed')\n",
    "   )"
   ]
  },
  {
   "cell_type": "code",
   "execution_count": 42,
   "metadata": {},
   "outputs": [
    {
     "name": "stdout",
     "output_type": "stream",
     "text": [
      "SELECT address.user_id, count(address.id) AS count \n",
      "FROM address GROUP BY address.user_id\n"
     ]
    }
   ],
   "source": [
    "### slide::\n",
    "# A subquery against \"address\" counts addresses per user:\n",
    "\n",
    "from sqlalchemy import func\n",
    "address_subq = select([\n",
    "                    address_table.c.user_id,\n",
    "                    func.count(address_table.c.id).label('count')\n",
    "                ]).\\\n",
    "                group_by(address_table.c.user_id).\\\n",
    "                alias()\n",
    "print(address_subq)"
   ]
  },
  {
   "cell_type": "code",
   "execution_count": 43,
   "metadata": {},
   "outputs": [],
   "source": [
    "### slide:: i\n",
    "# we use join() to link the alias() with another select()\n",
    "\n",
    "username_plus_count = select([\n",
    "                            user_table.c.username,\n",
    "                            address_subq.c.count\n",
    "                        ]).select_from(\n",
    "                            user_table.join(address_subq)\n",
    "                         ).order_by(user_table.c.username)"
   ]
  },
  {
   "cell_type": "code",
   "execution_count": 44,
   "metadata": {},
   "outputs": [
    {
     "data": {
      "text/plain": [
       "[('ed', 2), ('jack', 1), ('wendy', 1)]"
      ]
     },
     "execution_count": 44,
     "metadata": {},
     "output_type": "execute_result"
    }
   ],
   "source": [
    "### slide:: i\n",
    "\n",
    "conn.execute(username_plus_count).fetchall()"
   ]
  },
  {
   "cell_type": "code",
   "execution_count": 45,
   "metadata": {},
   "outputs": [],
   "source": [
    "### slide::\n",
    "### title:: Exercises\n",
    "# Produce this SELECT:\n",
    "#\n",
    "# SELECT fullname, email_address FROM user JOIN address\n",
    "#   ON user.id = address.user_id WHERE username='ed'\n",
    "#   ORDER BY email_address\n",
    "#"
   ]
  },
  {
   "cell_type": "code",
   "execution_count": 46,
   "metadata": {},
   "outputs": [
    {
     "name": "stdout",
     "output_type": "stream",
     "text": [
      "SELECT count(address.id) AS count_1 \n",
      "FROM address, \"user\" \n",
      "WHERE \"user\".id = address.user_id\n"
     ]
    }
   ],
   "source": [
    "### slide::\n",
    "### title:: Scalar selects, updates, deletes\n",
    "# a *scalar select* returns exactly one row and one column\n",
    "\n",
    "address_sel = select([\n",
    "                func.count(address_table.c.id)\n",
    "                ]).\\\n",
    "                where(user_table.c.id == address_table.c.user_id)\n",
    "print(address_sel)"
   ]
  },
  {
   "cell_type": "code",
   "execution_count": 47,
   "metadata": {},
   "outputs": [
    {
     "data": {
      "text/plain": [
       "[('ed', 2), ('jack', 1), ('wendy', 1)]"
      ]
     },
     "execution_count": 47,
     "metadata": {},
     "output_type": "execute_result"
    }
   ],
   "source": [
    "### slide:: ip\n",
    "# scalar selects can be used in column expressions,\n",
    "# specify it using as_scalar()\n",
    "\n",
    "select_stmt = select([user_table.c.username, address_sel.as_scalar()])\n",
    "conn.execute(select_stmt).fetchall()"
   ]
  },
  {
   "cell_type": "code",
   "execution_count": 48,
   "metadata": {},
   "outputs": [],
   "source": [
    "### slide:: p\n",
    "# to round out INSERT and SELECT, this is an UPDATE\n",
    "\n",
    "update_stmt = address_table.update().\\\n",
    "                    values(email_address=\"jack@msn.com\").\\\n",
    "                    where(address_table.c.email_address == \"jack@yahoo.com\")\n",
    "\n",
    "result = conn.execute(update_stmt)"
   ]
  },
  {
   "cell_type": "code",
   "execution_count": 49,
   "metadata": {},
   "outputs": [],
   "source": [
    "### slide:: p\n",
    "# an UPDATE can also use expressions based on other columns\n",
    "\n",
    "update_stmt = user_table.update().\\\n",
    "                    values(fullname=user_table.c.username +\n",
    "                            \" \" + user_table.c.fullname)\n",
    "\n",
    "result = conn.execute(update_stmt)"
   ]
  },
  {
   "cell_type": "code",
   "execution_count": 50,
   "metadata": {},
   "outputs": [
    {
     "data": {
      "text/plain": [
       "[(1, 'ed', 'ed Ed Jones'),\n",
       " (2, 'jack', 'jack Jack Burger'),\n",
       " (3, 'wendy', 'wendy Wendy Weathersmith')]"
      ]
     },
     "execution_count": 50,
     "metadata": {},
     "output_type": "execute_result"
    }
   ],
   "source": [
    "### slide:: i\n",
    "conn.execute(select([user_table])).fetchall()"
   ]
  },
  {
   "cell_type": "code",
   "execution_count": 51,
   "metadata": {},
   "outputs": [],
   "source": [
    "### slide:: p\n",
    "# and this is a DELETE\n",
    "\n",
    "delete_stmt = address_table.delete().\\\n",
    "                where(address_table.c.email_address == \"ed@ed.com\")\n",
    "\n",
    "result = conn.execute(delete_stmt)"
   ]
  },
  {
   "cell_type": "code",
   "execution_count": 52,
   "metadata": {},
   "outputs": [
    {
     "data": {
      "text/plain": [
       "1"
      ]
     },
     "execution_count": 52,
     "metadata": {},
     "output_type": "execute_result"
    }
   ],
   "source": [
    "### slide:: i\n",
    "# UPDATE and DELETE have a \"rowcount\", number of rows matched\n",
    "# by the WHERE clause.\n",
    "result.rowcount"
   ]
  },
  {
   "cell_type": "code",
   "execution_count": 53,
   "metadata": {},
   "outputs": [],
   "source": [
    "### slide::\n",
    "### title:: Exercises\n",
    "# 1. Execute this UPDATE - keep the \"result\" that's returned\n",
    "#\n",
    "#    UPDATE user SET fullname='Ed Jones' where username='ed'\n",
    "#\n",
    "# 2. how many rows did the above statement update?\n",
    "#\n",
    "# 3. Tricky bonus!  Combine update() along with select().as_scalar()\n",
    "#    to execute this UPDATE:\n",
    "#\n",
    "#    UPDATE user SET fullname=fullname ||\n",
    "#        (select email_address FROM address WHERE user_id=user.id)\n",
    "#       WHERE username IN ('jack', 'wendy')\n",
    "#\n",
    "\n",
    "### slide::"
   ]
  },
  {
   "cell_type": "code",
   "execution_count": null,
   "metadata": {},
   "outputs": [],
   "source": []
  },
  {
   "cell_type": "code",
   "execution_count": null,
   "metadata": {},
   "outputs": [],
   "source": []
  },
  {
   "cell_type": "code",
   "execution_count": null,
   "metadata": {},
   "outputs": [],
   "source": []
  },
  {
   "cell_type": "code",
   "execution_count": null,
   "metadata": {},
   "outputs": [],
   "source": []
  },
  {
   "cell_type": "code",
   "execution_count": null,
   "metadata": {},
   "outputs": [],
   "source": []
  },
  {
   "cell_type": "code",
   "execution_count": null,
   "metadata": {},
   "outputs": [],
   "source": []
  },
  {
   "cell_type": "code",
   "execution_count": null,
   "metadata": {},
   "outputs": [],
   "source": []
  },
  {
   "cell_type": "code",
   "execution_count": null,
   "metadata": {},
   "outputs": [],
   "source": []
  },
  {
   "cell_type": "code",
   "execution_count": null,
   "metadata": {},
   "outputs": [],
   "source": []
  },
  {
   "cell_type": "code",
   "execution_count": null,
   "metadata": {},
   "outputs": [],
   "source": []
  },
  {
   "cell_type": "code",
   "execution_count": null,
   "metadata": {},
   "outputs": [],
   "source": []
  },
  {
   "cell_type": "code",
   "execution_count": null,
   "metadata": {},
   "outputs": [],
   "source": []
  },
  {
   "cell_type": "code",
   "execution_count": null,
   "metadata": {},
   "outputs": [],
   "source": []
  }
 ],
 "metadata": {
  "kernelspec": {
   "display_name": "Python 3",
   "language": "python",
   "name": "python3"
  },
  "language_info": {
   "codemirror_mode": {
    "name": "ipython",
    "version": 3
   },
   "file_extension": ".py",
   "mimetype": "text/x-python",
   "name": "python",
   "nbconvert_exporter": "python",
   "pygments_lexer": "ipython3",
   "version": "3.8.5"
  }
 },
 "nbformat": 4,
 "nbformat_minor": 4
}
