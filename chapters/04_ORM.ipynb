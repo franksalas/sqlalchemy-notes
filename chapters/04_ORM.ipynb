{
 "cells": [
  {
   "cell_type": "markdown",
   "metadata": {},
   "source": [
    "# Introduction to SQLAlchemy : ORM"
   ]
  },
  {
   "cell_type": "code",
   "execution_count": null,
   "metadata": {},
   "outputs": [],
   "source": [
    "### slide::\n",
    "### title:: Object Relational Mapping\n",
    "# The *declarative* system is normally used to configure\n",
    "# object relational mappings.\n",
    "\n",
    "from sqlalchemy.ext.declarative import declarative_base\n",
    "Base = declarative_base()"
   ]
  },
  {
   "cell_type": "code",
   "execution_count": null,
   "metadata": {},
   "outputs": [],
   "source": [
    "### slide::\n",
    "# a basic mapping.  __repr__() is optional.\n",
    "\n",
    "from sqlalchemy import Column, Integer, String\n",
    "\n",
    "class User(Base):\n",
    "    __tablename__ = 'user'\n",
    "\n",
    "    id = Column(Integer, primary_key=True)\n",
    "    name = Column(String)\n",
    "    fullname = Column(String)\n",
    "\n",
    "    def __repr__(self):\n",
    "        return \"<User(%r, %r)>\" % (\n",
    "                self.name, self.fullname\n",
    "            )"
   ]
  },
  {
   "cell_type": "code",
   "execution_count": null,
   "metadata": {},
   "outputs": [],
   "source": [
    "### slide::\n",
    "# the User class now has a Table object associated with it.\n",
    "\n",
    "User.__table__"
   ]
  },
  {
   "cell_type": "code",
   "execution_count": null,
   "metadata": {},
   "outputs": [],
   "source": [
    "### slide::\n",
    "# The Mapper object mediates the relationship between User\n",
    "# and the \"user\" Table object.\n",
    "\n",
    "User.__mapper__"
   ]
  },
  {
   "cell_type": "code",
   "execution_count": null,
   "metadata": {},
   "outputs": [],
   "source": [
    "### slide::\n",
    "# User has a default constructor, accepting field names\n",
    "# as arguments.\n",
    "\n",
    "ed_user = User(name='ed', fullname='Edward Jones')"
   ]
  },
  {
   "cell_type": "code",
   "execution_count": null,
   "metadata": {},
   "outputs": [],
   "source": [
    "### slide::\n",
    "# The \"id\" field is the primary key, which starts as None\n",
    "# if we didn't set it explicitly.\n",
    "\n",
    "print(ed_user.name, ed_user.fullname)\n",
    "print(ed_user.id)"
   ]
  },
  {
   "cell_type": "code",
   "execution_count": null,
   "metadata": {},
   "outputs": [],
   "source": [
    "### slide:: p\n",
    "# The MetaData object is here too, available from the Base.\n",
    "\n",
    "from sqlalchemy import create_engine\n",
    "engine = create_engine('sqlite://')\n",
    "Base.metadata.create_all(engine)"
   ]
  },
  {
   "cell_type": "code",
   "execution_count": null,
   "metadata": {},
   "outputs": [],
   "source": [
    "### slide::\n",
    "# To persist and load User objects from the database, we\n",
    "# use a Session object.\n",
    "\n",
    "from sqlalchemy.orm import Session\n",
    "session = Session(bind=engine)"
   ]
  },
  {
   "cell_type": "code",
   "execution_count": null,
   "metadata": {},
   "outputs": [],
   "source": [
    "### slide::\n",
    "# new objects are placed into the Session using add().\n",
    "session.add(ed_user)"
   ]
  },
  {
   "cell_type": "code",
   "execution_count": null,
   "metadata": {},
   "outputs": [],
   "source": [
    "### slide:: pi\n",
    "# the Session will *flush* *pending* objects\n",
    "# to the database before each Query.\n",
    "\n",
    "our_user = session.query(User).filter_by(name='ed').first()\n",
    "our_user"
   ]
  },
  {
   "cell_type": "code",
   "execution_count": null,
   "metadata": {},
   "outputs": [],
   "source": [
    "### slide::\n",
    "# the User object we've inserted now has a value for \".id\"\n",
    "print(ed_user.id)"
   ]
  },
  {
   "cell_type": "code",
   "execution_count": null,
   "metadata": {},
   "outputs": [],
   "source": [
    "### slide::\n",
    "# the Session maintains a *unique* object per identity.\n",
    "# so \"ed_user\" and \"our_user\" are the *same* object\n",
    "\n",
    "ed_user is our_user"
   ]
  },
  {
   "cell_type": "code",
   "execution_count": null,
   "metadata": {},
   "outputs": [],
   "source": [
    "### slide::\n",
    "# Add more objects to be pending for flush.\n",
    "\n",
    "session.add_all([\n",
    "    User(name='wendy', fullname='Wendy Weathersmith'),\n",
    "    User(name='mary', fullname='Mary Contrary'),\n",
    "    User(name='fred', fullname='Fred Flinstone')\n",
    "])"
   ]
  },
  {
   "cell_type": "code",
   "execution_count": null,
   "metadata": {},
   "outputs": [],
   "source": [
    "### slide::\n",
    "# modify \"ed_user\" - the object is now marked as *dirty*.\n",
    "\n",
    "ed_user.fullname = 'Ed Jones'"
   ]
  },
  {
   "cell_type": "code",
   "execution_count": null,
   "metadata": {},
   "outputs": [],
   "source": [
    "### slide::\n",
    "# the Session can tell us which objects are dirty...\n",
    "\n",
    "session.dirty"
   ]
  },
  {
   "cell_type": "code",
   "execution_count": null,
   "metadata": {},
   "outputs": [],
   "source": [
    "### slide::\n",
    "# and can also tell us which objects are pending...\n",
    "\n",
    "session.new"
   ]
  },
  {
   "cell_type": "code",
   "execution_count": null,
   "metadata": {},
   "outputs": [],
   "source": [
    "### slide:: p i\n",
    "# The whole transaction is committed.  Commit always triggers\n",
    "# a final flush of remaining changes.\n",
    "\n",
    "session.commit()"
   ]
  },
  {
   "cell_type": "code",
   "execution_count": null,
   "metadata": {},
   "outputs": [],
   "source": [
    "### slide:: p\n",
    "# After a commit, theres no transaction.  The Session\n",
    "# *invalidates* all data, so that accessing them will automatically\n",
    "# start a *new* transaction and re-load from the database.\n",
    "\n",
    "ed_user.fullname"
   ]
  },
  {
   "cell_type": "code",
   "execution_count": null,
   "metadata": {},
   "outputs": [],
   "source": [
    "### slide::\n",
    "# Make another \"dirty\" change, and another \"pending\" change,\n",
    "# that we might change our minds about.\n",
    "\n",
    "ed_user.name = 'Edwardo'\n",
    "fake_user = User(name='fakeuser', fullname='Invalid')\n",
    "session.add(fake_user)"
   ]
  },
  {
   "cell_type": "code",
   "execution_count": null,
   "metadata": {},
   "outputs": [],
   "source": [
    "### slide:: p\n",
    "# run a query, our changes are flushed; results come back.\n",
    "\n",
    "session.query(User).filter(User.name.in_(['Edwardo', 'fakeuser'])).all()"
   ]
  },
  {
   "cell_type": "code",
   "execution_count": null,
   "metadata": {},
   "outputs": [],
   "source": [
    "### slide::\n",
    "# But we're inside of a transaction.  Roll it back.\n",
    "session.rollback()"
   ]
  },
  {
   "cell_type": "code",
   "execution_count": null,
   "metadata": {},
   "outputs": [],
   "source": [
    "### slide:: p\n",
    "# ed_user's name is back to normal\n",
    "ed_user.name"
   ]
  },
  {
   "cell_type": "code",
   "execution_count": null,
   "metadata": {},
   "outputs": [],
   "source": [
    "### slide::\n",
    "# \"fake_user\" has been evicted from the session.\n",
    "fake_user in session"
   ]
  },
  {
   "cell_type": "code",
   "execution_count": null,
   "metadata": {},
   "outputs": [],
   "source": [
    "### slide:: p\n",
    "# and the data is gone from the database too.\n",
    "\n",
    "session.query(User).filter(User.name.in_(['ed', 'fakeuser'])).all()"
   ]
  },
  {
   "cell_type": "code",
   "execution_count": null,
   "metadata": {},
   "outputs": [],
   "source": [
    "### slide::\n",
    "### title:: Exercises - Basic Mapping\n",
    "#\n",
    "# 1. Create a class/mapping for this table, call the class Network\n",
    "#\n",
    "# CREATE TABLE network (\n",
    "#      network_id INTEGER PRIMARY KEY,\n",
    "#      name VARCHAR(100) NOT NULL,\n",
    "# )\n",
    "#\n",
    "# 2. emit Base.metadata.create_all(engine) to create the table\n",
    "#\n",
    "# 3. commit a few Network objects to the database:\n",
    "#\n",
    "# Network(name='net1'), Network(name='net2')\n",
    "#\n",
    "#"
   ]
  },
  {
   "cell_type": "code",
   "execution_count": null,
   "metadata": {},
   "outputs": [],
   "source": [
    "### slide::\n",
    "### title:: ORM Querying\n",
    "# The attributes on our mapped class act like Column objects, and\n",
    "# produce SQL expressions.\n",
    "\n",
    "print(User.name == \"ed\")"
   ]
  },
  {
   "cell_type": "code",
   "execution_count": null,
   "metadata": {},
   "outputs": [],
   "source": [
    "### slide:: p\n",
    "# These SQL expressions are compatible with the select() object\n",
    "# we introduced earlier.\n",
    "\n",
    "from sqlalchemy import select\n",
    "\n",
    "sel = select([User.name, User.fullname]).\\\n",
    "        where(User.name == 'ed').\\\n",
    "        order_by(User.id)\n",
    "\n",
    "session.connection().execute(sel).fetchall()"
   ]
  },
  {
   "cell_type": "code",
   "execution_count": null,
   "metadata": {},
   "outputs": [],
   "source": [
    "### slide:: p\n",
    "# but when using the ORM, the Query() object provides a lot more functionality,\n",
    "# here selecting the User *entity*.\n",
    "\n",
    "query = session.query(User).filter(User.name == 'ed').order_by(User.id)\n",
    "\n",
    "query.all()"
   ]
  },
  {
   "cell_type": "code",
   "execution_count": null,
   "metadata": {},
   "outputs": [],
   "source": [
    "### slide:: p\n",
    "# Query can also return individual columns\n",
    "\n",
    "for name, fullname in session.query(User.name, User.fullname):\n",
    "    print(name, fullname)"
   ]
  },
  {
   "cell_type": "code",
   "execution_count": null,
   "metadata": {},
   "outputs": [],
   "source": [
    "### slide:: p\n",
    "# and can mix entities / columns together.\n",
    "\n",
    "for row in session.query(User, User.name):\n",
    "    print(row.User, row.name)"
   ]
  },
  {
   "cell_type": "code",
   "execution_count": null,
   "metadata": {},
   "outputs": [],
   "source": [
    "### slide:: p\n",
    "# Array indexes will OFFSET to that index and LIMIT by one...\n",
    "\n",
    "u = session.query(User).order_by(User.id)[2]\n",
    "print(u)"
   ]
  },
  {
   "cell_type": "code",
   "execution_count": null,
   "metadata": {},
   "outputs": [],
   "source": [
    "### slide:: pi\n",
    "# and array slices work too.\n",
    "\n",
    "for u in session.query(User).order_by(User.id)[1:3]:\n",
    "    print(u)"
   ]
  },
  {
   "cell_type": "code",
   "execution_count": null,
   "metadata": {},
   "outputs": [],
   "source": [
    "### slide:: p\n",
    "# the WHERE clause is either by filter_by(), which is convenient\n",
    "\n",
    "for name, in session.query(User.name).\\\n",
    "                filter_by(fullname='Ed Jones'):\n",
    "    print(name)"
   ]
  },
  {
   "cell_type": "code",
   "execution_count": null,
   "metadata": {},
   "outputs": [],
   "source": [
    "### slide:: p\n",
    "# or filter(), which is more flexible\n",
    "\n",
    "for name, in session.query(User.name).\\\n",
    "                filter(User.fullname == 'Ed Jones'):\n",
    "    print(name)"
   ]
  },
  {
   "cell_type": "code",
   "execution_count": null,
   "metadata": {},
   "outputs": [],
   "source": [
    "### slide:: p\n",
    "# conjunctions can be passed to filter() as well\n",
    "\n",
    "from sqlalchemy import or_\n",
    "\n",
    "for name, in session.query(User.name).\\\n",
    "                filter(or_(User.fullname == 'Ed Jones', User.id < 5)):\n",
    "    print(name)"
   ]
  },
  {
   "cell_type": "code",
   "execution_count": null,
   "metadata": {},
   "outputs": [],
   "source": [
    "### slide::\n",
    "# multiple filter() calls join by AND just like select().where()\n",
    "\n",
    "for user in session.query(User).\\\n",
    "                        filter(User.name == 'ed').\\\n",
    "                        filter(User.fullname == 'Ed Jones'):\n",
    "    print(user)"
   ]
  },
  {
   "cell_type": "code",
   "execution_count": null,
   "metadata": {},
   "outputs": [],
   "source": [
    "### slide::\n",
    "# Query has some variety for returning results\n",
    "\n",
    "query = session.query(User).filter_by(fullname='Ed Jones')"
   ]
  },
  {
   "cell_type": "code",
   "execution_count": null,
   "metadata": {},
   "outputs": [],
   "source": [
    "### slide:: p\n",
    "# all() returns a list\n",
    "\n",
    "query.all()"
   ]
  },
  {
   "cell_type": "code",
   "execution_count": null,
   "metadata": {},
   "outputs": [],
   "source": [
    "### slide:: p\n",
    "# first() returns the first row, or None\n",
    "\n",
    "query.first()"
   ]
  },
  {
   "cell_type": "code",
   "execution_count": null,
   "metadata": {},
   "outputs": [],
   "source": [
    "### slide:: p\n",
    "# one() returns the first row and verifies that there's one and only one\n",
    "\n",
    "query.one()"
   ]
  },
  {
   "cell_type": "code",
   "execution_count": null,
   "metadata": {},
   "outputs": [],
   "source": [
    "### slide:: p\n",
    "# if there's not one(), you get an error\n",
    "\n",
    "query = session.query(User).filter_by(fullname='nonexistent')\n",
    "query.one()"
   ]
  },
  {
   "cell_type": "code",
   "execution_count": null,
   "metadata": {},
   "outputs": [],
   "source": [
    "### slide:: p\n",
    "# if there's more than one(), you get an error\n",
    "\n",
    "query = session.query(User)\n",
    "query.one()"
   ]
  },
  {
   "cell_type": "code",
   "execution_count": null,
   "metadata": {},
   "outputs": [],
   "source": [
    "### slide::\n",
    "### title:: Exercises - ORM Querying\n",
    "# 1. Produce a Query object representing the list of \"fullname\" values for\n",
    "#    all User objects in alphabetical order.\n",
    "#\n",
    "# 2. call .all() on the query to make sure it works!\n",
    "#\n",
    "# 3. build a second Query object from the first that also selects\n",
    "#    only User rows with the name \"mary\" or \"ed\".\n",
    "#\n",
    "# 4. return only the second row of the Query from #3."
   ]
  },
  {
   "cell_type": "code",
   "execution_count": null,
   "metadata": {},
   "outputs": [],
   "source": [
    "### slide::\n",
    "### title:: Joins and relationships\n",
    "# A new class called Address, with a *many-to-one* relationship to User.\n",
    "\n",
    "from sqlalchemy import ForeignKey\n",
    "from sqlalchemy.orm import relationship\n",
    "\n",
    "class Address(Base):\n",
    "    __tablename__ = 'address'\n",
    "\n",
    "    id = Column(Integer, primary_key=True)\n",
    "    email_address = Column(String, nullable=False)\n",
    "    user_id = Column(Integer, ForeignKey('user.id'))\n",
    "\n",
    "    user = relationship(\"User\", backref=\"addresses\")\n",
    "\n",
    "    def __repr__(self):\n",
    "        return \"<Address(%r)>\" % self.email_address"
   ]
  },
  {
   "cell_type": "code",
   "execution_count": null,
   "metadata": {},
   "outputs": [],
   "source": [
    "### slide:: p\n",
    "# create the new table.\n",
    "\n",
    "Base.metadata.create_all(engine)"
   ]
  },
  {
   "cell_type": "code",
   "execution_count": null,
   "metadata": {},
   "outputs": [],
   "source": [
    "### slide::\n",
    "# a new User object also gains an empty \"addresses\" collection now.\n",
    "\n",
    "jack = User(name='jack', fullname='Jack Bean')\n",
    "jack.addresses"
   ]
  },
  {
   "cell_type": "code",
   "execution_count": null,
   "metadata": {},
   "outputs": [],
   "source": [
    "### slide::\n",
    "# populate this collection with new Address objects.\n",
    "\n",
    "jack.addresses = [\n",
    "                Address(email_address='jack@gmail.com'),\n",
    "                Address(email_address='j25@yahoo.com'),\n",
    "                Address(email_address='jack@hotmail.com'),\n",
    "                ]"
   ]
  },
  {
   "cell_type": "code",
   "execution_count": null,
   "metadata": {},
   "outputs": [],
   "source": [
    "### slide::\n",
    "# the \"backref\" sets up Address.user for each User.address.\n",
    "\n",
    "jack.addresses[1]\n",
    "jack.addresses[1].user"
   ]
  },
  {
   "cell_type": "code",
   "execution_count": null,
   "metadata": {},
   "outputs": [],
   "source": [
    "### slide::\n",
    "# adding User->jack will *cascade* each Address into the Session as well.\n",
    "\n",
    "session.add(jack)\n",
    "session.new"
   ]
  },
  {
   "cell_type": "code",
   "execution_count": null,
   "metadata": {},
   "outputs": [],
   "source": [
    "### slide:: p\n",
    "# commit.\n",
    "session.commit()"
   ]
  },
  {
   "cell_type": "code",
   "execution_count": null,
   "metadata": {},
   "outputs": [],
   "source": [
    "### slide:: p\n",
    "# After expiration, jack.addresses emits a *lazy load* when first\n",
    "# accessed.\n",
    "jack.addresses"
   ]
  },
  {
   "cell_type": "code",
   "execution_count": null,
   "metadata": {},
   "outputs": [],
   "source": [
    "### slide:: i\n",
    "# the collection stays in memory until the transaction ends.\n",
    "jack.addresses"
   ]
  },
  {
   "cell_type": "code",
   "execution_count": null,
   "metadata": {},
   "outputs": [],
   "source": [
    "### slide:: p\n",
    "# collections and references are updated by manipulating objects,\n",
    "# not primary / foreign key values.\n",
    "\n",
    "fred = session.query(User).filter_by(name='fred').one()\n",
    "jack.addresses[1].user = fred\n",
    "\n",
    "fred.addresses\n",
    "\n",
    "session.commit()"
   ]
  },
  {
   "cell_type": "code",
   "execution_count": null,
   "metadata": {},
   "outputs": [],
   "source": [
    "### slide:: p\n",
    "# Query can select from multiple tables at once.\n",
    "# Below is an *implicit join*.\n",
    "\n",
    "session.query(User, Address).filter(User.id == Address.user_id).all()"
   ]
  },
  {
   "cell_type": "code",
   "execution_count": null,
   "metadata": {},
   "outputs": [],
   "source": [
    "### slide:: p\n",
    "# join() is used to create an explicit JOIN.\n",
    "\n",
    "session.query(User, Address).join(Address, User.id == Address.user_id).all()"
   ]
  },
  {
   "cell_type": "code",
   "execution_count": null,
   "metadata": {},
   "outputs": [],
   "source": [
    "### slide:: p\n",
    "# The most succinct and accurate way to join() is to use the\n",
    "# the relationship()-bound attribute to specify ON.\n",
    "\n",
    "session.query(User, Address).join(User.addresses).all()"
   ]
  },
  {
   "cell_type": "code",
   "execution_count": null,
   "metadata": {},
   "outputs": [],
   "source": [
    "### slide:: p\n",
    "# join() will also figure out very simple joins just using entities.\n",
    "\n",
    "session.query(User, Address).join(Address).all()"
   ]
  },
  {
   "cell_type": "code",
   "execution_count": null,
   "metadata": {},
   "outputs": [],
   "source": [
    "### slide:: p\n",
    "# Either User or Address may be referred to anywhere in the query.\n",
    "\n",
    "session.query(User.name).join(User.addresses).\\\n",
    "    filter(Address.email_address == 'jack@gmail.com').first()"
   ]
  },
  {
   "cell_type": "code",
   "execution_count": null,
   "metadata": {},
   "outputs": [],
   "source": [
    "### slide:: p\n",
    "# we can specify an explicit FROM using select_from().\n",
    "\n",
    "session.query(User, Address).select_from(Address).join(Address.user).all()"
   ]
  },
  {
   "cell_type": "code",
   "execution_count": null,
   "metadata": {},
   "outputs": [],
   "source": [
    "### slide:: p\n",
    "# A query that refers to the same entity more than once in the FROM\n",
    "# clause requires *aliasing*.\n",
    "\n",
    "from sqlalchemy.orm import aliased\n",
    "\n",
    "a1, a2 = aliased(Address), aliased(Address)\n",
    "session.query(User).\\\n",
    "        join(a1).\\\n",
    "        join(a2).\\\n",
    "        filter(a1.email_address == 'jack@gmail.com').\\\n",
    "        filter(a2.email_address == 'jack@hotmail.com').\\\n",
    "        all()"
   ]
  },
  {
   "cell_type": "code",
   "execution_count": null,
   "metadata": {},
   "outputs": [],
   "source": [
    "### slide:: p\n",
    "# We can also join with subqueries.  subquery() returns\n",
    "# an \"alias\" construct for us to use.\n",
    "\n",
    "from sqlalchemy import func\n",
    "\n",
    "subq = session.query(\n",
    "                func.count(Address.id).label('count'),\n",
    "                User.id.label('user_id')\n",
    "                ).\\\n",
    "                join(Address.user).\\\n",
    "                group_by(User.id).\\\n",
    "                subquery()\n",
    "\n",
    "session.query(User.name, func.coalesce(subq.c.count, 0)).\\\n",
    "            outerjoin(subq, User.id == subq.c.user_id).all()"
   ]
  },
  {
   "cell_type": "code",
   "execution_count": null,
   "metadata": {},
   "outputs": [],
   "source": [
    "### slide::\n",
    "### title:: Exercises\n",
    "# 1. Run this SQL JOIN:\n",
    "#\n",
    "#    SELECT user.name, address.email_address FROM user\n",
    "#    JOIN address ON user.id=address.user_id WHERE\n",
    "#    address.email_address='j25@yahoo.com'\n",
    "#\n",
    "# 2. Tricky Bonus!  Select all pairs of distinct user names.\n",
    "#    Hint: \"... ON user_alias1.name < user_alias2.name\"\n",
    "#"
   ]
  },
  {
   "cell_type": "code",
   "execution_count": null,
   "metadata": {},
   "outputs": [],
   "source": [
    "### slide:: p\n",
    "### title:: Eager Loading\n",
    "# the \"N plus one\" problem refers to the many SELECT statements\n",
    "# emitted when loading collections against a parent result\n",
    "\n",
    "for user in session.query(User):\n",
    "    print(user, user.addresses)"
   ]
  },
  {
   "cell_type": "code",
   "execution_count": null,
   "metadata": {},
   "outputs": [],
   "source": [
    "### slide:: p\n",
    "# *eager loading* solves this problem by loading *all* collections\n",
    "# at once.\n",
    "\n",
    "session.rollback()  # so we can see the load happen again.\n",
    "\n",
    "from sqlalchemy.orm import subqueryload\n",
    "\n",
    "for user in session.query(User).options(subqueryload(User.addresses)):\n",
    "    print(user, user.addresses)"
   ]
  },
  {
   "cell_type": "code",
   "execution_count": null,
   "metadata": {},
   "outputs": [],
   "source": [
    "### slide:: p\n",
    "# joinedload() uses a LEFT OUTER JOIN to load parent + child in one query.\n",
    "\n",
    "session.rollback()\n",
    "\n",
    "from sqlalchemy.orm import joinedload\n",
    "\n",
    "for user in session.query(User).options(joinedload(User.addresses)):\n",
    "    print(user, user.addresses)"
   ]
  },
  {
   "cell_type": "code",
   "execution_count": null,
   "metadata": {},
   "outputs": [],
   "source": [
    "### slide:: p\n",
    "# eager loading *does not* change the *result* of the Query.\n",
    "# only how related collections are loaded.\n",
    "\n",
    "for address in session.query(Address).\\\n",
    "                join(Address.user).\\\n",
    "                filter(User.name == 'jack').\\\n",
    "                options(joinedload(Address.user)):\n",
    "    print(address, address.user)"
   ]
  },
  {
   "cell_type": "code",
   "execution_count": null,
   "metadata": {},
   "outputs": [],
   "source": [
    "### slide:: p\n",
    "# to join() *and* joinedload() at the same time without using two\n",
    "# JOIN clauses, use contains_eager()\n",
    "\n",
    "from sqlalchemy.orm import contains_eager\n",
    "\n",
    "for address in session.query(Address).\\\n",
    "                join(Address.user).\\\n",
    "                filter(User.name == 'jack').\\\n",
    "                options(contains_eager(Address.user)):\n",
    "    print(address, address.user)"
   ]
  },
  {
   "cell_type": "code",
   "execution_count": null,
   "metadata": {},
   "outputs": [],
   "source": [
    "### slide:: p\n",
    "### title:: Delete Cascades\n",
    "# removing an Address sets its foreign key to NULL.\n",
    "# We'd prefer it gets deleted.\n",
    "\n",
    "jack = session.query(User).filter_by(name='jack').one()\n",
    "\n",
    "del jack.addresses[0]\n",
    "session.commit()"
   ]
  },
  {
   "cell_type": "code",
   "execution_count": null,
   "metadata": {},
   "outputs": [],
   "source": [
    "### slide::\n",
    "# This can be configured on relationship() using\n",
    "# \"delete-orphan\" cascade on the User->Address\n",
    "# relationship.\n",
    "\n",
    "User.addresses.property.cascade = \"all, delete, delete-orphan\""
   ]
  },
  {
   "cell_type": "code",
   "execution_count": null,
   "metadata": {},
   "outputs": [],
   "source": [
    "### slide:: p\n",
    "# Removing an Address from a User will now delete it.\n",
    "\n",
    "fred = session.query(User).filter_by(name='fred').one()\n",
    "\n",
    "del fred.addresses[0]\n",
    "session.commit()"
   ]
  },
  {
   "cell_type": "code",
   "execution_count": null,
   "metadata": {},
   "outputs": [],
   "source": [
    "### slide:: p\n",
    "# Deleting the User will also delete all Address objects.\n",
    "\n",
    "session.delete(jack)\n",
    "session.commit()"
   ]
  },
  {
   "cell_type": "code",
   "execution_count": null,
   "metadata": {},
   "outputs": [],
   "source": [
    "### slide::\n",
    "### title:: Exercises - Final Exam !\n",
    "# 1. Create a class called 'Account', with table \"account\":\n",
    "#\n",
    "#      id = Column(Integer, primary_key=True)\n",
    "#      owner = Column(String(50), nullable=False)\n",
    "#      balance = Column(Numeric, default=0)\n",
    "#\n",
    "# 2. Create a class \"Transaction\", with table \"transaction\":\n",
    "#      * Integer primary key\n",
    "#      * numeric \"amount\" column\n",
    "#      * Integer \"account_id\" column with ForeignKey('account.id')\n",
    "#\n",
    "# 3. Add a relationship() on Transaction named \"account\", which refers\n",
    "#    to \"Account\", and has a backref called \"transactions\".\n",
    "#\n",
    "# 4. Create a database, create tables, then insert these objects:\n",
    "#\n",
    "#      a1 = Account(owner='Jack Jones', balance=5000)\n",
    "#      a2 = Account(owner='Ed Rendell', balance=10000)\n",
    "#      Transaction(amount=500, account=a1)\n",
    "#      Transaction(amount=4500, account=a1)\n",
    "#      Transaction(amount=6000, account=a2)\n",
    "#      Transaction(amount=4000, account=a2)\n",
    "#\n",
    "# 5. Produce a report that shows:\n",
    "#     * account owner\n",
    "#     * account balance\n",
    "#     * summation of transaction amounts per account (should match balance)\n",
    "#       A column can be summed using func.sum(Transaction.amount)\n",
    "#\n",
    "from sqlalchemy import Integer, String, Numeric\n",
    "\n",
    "### slide::"
   ]
  }
 ],
 "metadata": {
  "kernelspec": {
   "display_name": "Python 3",
   "language": "python",
   "name": "python3"
  },
  "language_info": {
   "codemirror_mode": {
    "name": "ipython",
    "version": 3
   },
   "file_extension": ".py",
   "mimetype": "text/x-python",
   "name": "python",
   "nbconvert_exporter": "python",
   "pygments_lexer": "ipython3",
   "version": "3.8.5"
  }
 },
 "nbformat": 4,
 "nbformat_minor": 4
}
